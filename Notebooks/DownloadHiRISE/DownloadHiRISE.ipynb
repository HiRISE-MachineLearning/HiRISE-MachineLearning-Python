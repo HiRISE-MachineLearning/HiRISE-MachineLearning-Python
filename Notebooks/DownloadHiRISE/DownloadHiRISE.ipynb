{
 "cells": [
  {
   "cell_type": "markdown",
   "metadata": {},
   "source": [
    "Run this notebook before anything else!"
   ]
  },
  {
   "cell_type": "code",
   "execution_count": null,
   "metadata": {},
   "outputs": [],
   "source": [
    "import os\n",
    "import requests\n",
    "import time\n",
    "from p4tools import io # from https://github.com/michaelaye/p4tools : \n"
   ]
  },
  {
   "cell_type": "code",
   "execution_count": null,
   "metadata": {},
   "outputs": [],
   "source": [
    "\n",
    "#before starting: update base folder name to an absolute path on your system, or do not change any paths\n",
    "base_folder = '../../'\n",
    "\n",
    "#set up folders\n",
    "DataSubFolders=['ClusteringResults','Figures','Images/HiRISE','Images/HiRISE_8bit_and_P4_mask','Models','SummaryResults']\n",
    "for f in DataSubFolders:\n",
    "    if not os.path.exists(base_folder+'Data/'+f):\n",
    "        os.makedirs(base_folder+'Data/'+f)\n",
    "\n",
    "#HiRISE data URL and save path\n",
    "URL_base = 'https://hirise-pds.lpl.arizona.edu/PDS/EXTRAS/RDR/ESP/ORB_0'\n",
    "data_folder = base_folder+'Data/Images/HiRISE/' #recommended path"
   ]
  },
  {
   "cell_type": "code",
   "execution_count": null,
   "metadata": {},
   "outputs": [],
   "source": [
    "\n",
    "def DownloadHiRISE(URL_base,data_folder):\n",
    "    metadata_df = io.get_meta_data()\n",
    "    if not os.path.exists(data_folder):\n",
    "        os.makedirs(data_folder)     \n",
    "    for index, row in metadata_df.iterrows():\n",
    "        t0 = time.time()\n",
    "        folder= str(int(int(row['OBSERVATION_ID'][4:10])/100)*100)+'_0'+str(int(int(row['OBSERVATION_ID'][4:10])/100)*100+99)\n",
    "        FileName = row['OBSERVATION_ID']+'_RGB.NOMAP.JP2'\n",
    "                        \n",
    "        if not os.path.isfile(os.path.join(data_folder, FileName)):\n",
    "            #have not lready downloaded file, so now download\n",
    "            Full_URL = URL_base+folder+'/'+row['OBSERVATION_ID']+'/'+FileName\n",
    "            r = requests.head(Full_URL)\n",
    "            if r.status_code == requests.codes.ok:\n",
    "                #file exists at URL\n",
    "                print('Downloading and saving HiRISE image ',str(index),' of ',str(metadata_df.shape[0]),'from: ',Full_URL)\n",
    "                r = requests.get(Full_URL)\n",
    "                with open(os.path.join(data_folder, FileName), 'wb') as f:\n",
    "                    f.write(r.content)\n",
    "        else:\n",
    "            print('HiRISE file already exists at: ',os.path.join(data_folder, FileName))    \n",
    "        t1 = time.time()\n",
    "        print(\"time for this image = \",t1-t0)"
   ]
  },
  {
   "cell_type": "code",
   "execution_count": null,
   "metadata": {},
   "outputs": [],
   "source": [
    "t0 = time.time()\n",
    "DownloadHiRISE(URL_base,data_folder)#total size of 221 JP2 files is 39.3 GB on disk\n",
    "t1 = time.time()\n",
    "print(\"time to download all images = \",t1-t0) #takes around an hour\n"
   ]
  },
  {
   "cell_type": "code",
   "execution_count": null,
   "metadata": {},
   "outputs": [],
   "source": []
  }
 ],
 "metadata": {
  "kernelspec": {
   "display_name": "Python 3",
   "language": "python",
   "name": "python3"
  },
  "language_info": {
   "codemirror_mode": {
    "name": "ipython",
    "version": 3
   },
   "file_extension": ".py",
   "mimetype": "text/x-python",
   "name": "python",
   "nbconvert_exporter": "python",
   "pygments_lexer": "ipython3",
   "version": "3.7.9"
  }
 },
 "nbformat": 4,
 "nbformat_minor": 4
}
